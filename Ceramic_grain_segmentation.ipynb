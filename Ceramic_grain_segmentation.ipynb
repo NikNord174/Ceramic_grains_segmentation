{
  "cells": [
    {
      "cell_type": "markdown",
      "metadata": {
        "id": "view-in-github",
        "colab_type": "text"
      },
      "source": [
        "<a href=\"https://colab.research.google.com/github/NikNord174/Ceramic_grains_segmentation/blob/master/Ceramic_grain_segmentation.ipynb\" target=\"_parent\"><img src=\"https://colab.research.google.com/assets/colab-badge.svg\" alt=\"Open In Colab\"/></a>"
      ]
    },
    {
      "cell_type": "markdown",
      "metadata": {
        "id": "Le0xhaLHRyyS"
      },
      "source": [
        "# Ceramic Microstructure Processing"
      ]
    },
    {
      "cell_type": "markdown",
      "metadata": {
        "id": "cjFFcbyxRyyU"
      },
      "source": [
        "### Python packages"
      ]
    },
    {
      "cell_type": "code",
      "execution_count": null,
      "metadata": {
        "id": "WJcwiz_TRyyU"
      },
      "outputs": [],
      "source": [
        "import random\n",
        "import numpy as np\n",
        "import numba\n",
        "from skimage import morphology\n",
        "from skimage.color import label2rgb\n",
        "import matplotlib.pyplot as plt\n",
        "import h5py\n",
        "\n",
        "import pandas as pd\n",
        "import torch\n",
        "import torch.nn as nn\n",
        "from torch.utils.data import Dataset, DataLoader\n",
        "from torchvision.transforms import Compose, ToTensor, Normalize, Grayscale, RandomRotation, Resize, ToPILImage, RandomGrayscale\n",
        "import os\n",
        "from PIL import Image\n",
        "import torch.optim as optim\n",
        "from itertools import product\n",
        "from torchvision.utils import make_grid"
      ]
    },
    {
      "cell_type": "markdown",
      "metadata": {
        "id": "NkDyHgJeRyyV"
      },
      "source": [
        "### Pure Iron Grain Dataset"
      ]
    },
    {
      "cell_type": "code",
      "execution_count": null,
      "metadata": {
        "id": "5tbjs7QmRyyV",
        "outputId": "39aee152-dd1a-470d-8507-86c09127ba0e"
      },
      "outputs": [
        {
          "name": "stdout",
          "output_type": "stream",
          "text": [
            "(296, 1024, 1024) (296, 1024, 1024) (296, 1024, 1024)\n"
          ]
        }
      ],
      "source": [
        "f=h5py.File(\"pure_iron_grain_data_sets.hdf5\", \"r\")\n",
        "images = f['image']\n",
        "images=np.moveaxis(images,2,0)\n",
        "labels = f['label']\n",
        "labels=np.moveaxis(labels,2,0)\n",
        "boundaries = f['boundary']\n",
        "boundaries=np.moveaxis(boundaries,2,0)\n",
        "print(images.shape,labels.shape,boundaries.shape)"
      ]
    },
    {
      "cell_type": "code",
      "execution_count": null,
      "metadata": {
        "id": "Qc2vEkrGRyyW"
      },
      "outputs": [],
      "source": [
        "plt.figure(figsize=(20, 20))\n",
        "plt.subplot(131)\n",
        "plt.imshow(images[0],cmap='gray')\n",
        "plt.axis('off')\n",
        "plt.title(\"SEM\", fontsize=20)\n",
        "plt.subplot(132)\n",
        "plt.imshow(boundaries[0],cmap='gray')\n",
        "plt.axis('off')\n",
        "plt.title(\"detected boundaries\", fontsize=20)\n",
        "plt.subplot(133)\n",
        "plt.imshow(labels[0],cmap='gray')\n",
        "plt.axis('off')\n",
        "plt.title(\"different grains (labels)\", fontsize=20)\n",
        "plt.show()"
      ]
    },
    {
      "cell_type": "code",
      "execution_count": null,
      "metadata": {
        "id": "YnssjyA_RyyX"
      },
      "outputs": [],
      "source": [
        "plt.imshow(images[0],cmap='gray')\n",
        "#[plt.imsave(f'Im_Iron/Im_{i}.jpeg', images[i],cmap='gray') for i in range(len(images))]\n",
        "print()"
      ]
    },
    {
      "cell_type": "markdown",
      "metadata": {
        "id": "iRKux487RyyX"
      },
      "source": [
        "### Cutting source pictures"
      ]
    },
    {
      "cell_type": "code",
      "execution_count": null,
      "metadata": {
        "id": "KvFzExikRyyX"
      },
      "outputs": [],
      "source": [
        "def crop(img, d):\n",
        "    k=0\n",
        "    w, h = img.shape\n",
        "    im_matrix=np.zeros((int(h/d)*int(w/d),64,64))\n",
        "    grid = product(range(0, h, d), range(0, w, d))\n",
        "    for i, j in grid:\n",
        "        im_matrix[k]=img[j:j+d,i:i+d]\n",
        "        k+=1\n",
        "    return im_matrix\n",
        "        \n",
        "for i,image in enumerate(images):\n",
        "    if i==0:\n",
        "        croped_images=crop(image, int(image.shape[1]/16))\n",
        "    else:\n",
        "        croped_images=np.concatenate((croped_images, crop(image, int(image.shape[1]/16))))\n",
        "\n",
        "print(croped_images.shape)"
      ]
    },
    {
      "cell_type": "code",
      "execution_count": null,
      "metadata": {
        "id": "WUN7Un0eRyyY"
      },
      "outputs": [],
      "source": [
        "plt.imshow(croped_images[75774],cmap='gray')"
      ]
    },
    {
      "cell_type": "code",
      "execution_count": null,
      "metadata": {
        "id": "DV6cnA31RyyY"
      },
      "outputs": [],
      "source": [
        "class SEM_Dataset(Dataset):\n",
        "    def __init__(self, images):#, labels, boundaries):\n",
        "        self.images = [torch.Tensor(i) for i in croped_images]\n",
        "        #self.boundaries = [torch.Tensor(i) for i in boundaries]\n",
        "        #self.labels = [torch.Tensor(i) for i in labels]\n",
        "        #self.transform = Compose([RandomRotation(degrees=(-179, 179)),\n",
        "        #                          Grayscale(num_output_channels=1)\n",
        "        #                         ])\n",
        "\n",
        "    def __len__(self):\n",
        "        return len(self.images)\n",
        "\n",
        "    def __getitem__(self, idx):\n",
        "        image=self.images[idx]\n",
        "        image=image.reshape(-1,image.shape[0],image.shape[1])\n",
        "        #image=self.transform(image)\n",
        "        #boundary=self.boundaries[idx]\n",
        "        #label=self.labels[idx]\n",
        "        return image#, boundary, label\n",
        "    \n",
        "SEM_images = SEM_Dataset(images)#, boundaries, labels)"
      ]
    },
    {
      "cell_type": "markdown",
      "metadata": {
        "id": "lYBuwYIURyyY"
      },
      "source": [
        "### GAN Part"
      ]
    },
    {
      "cell_type": "code",
      "execution_count": null,
      "metadata": {
        "id": "-nEGBNI7RyyY"
      },
      "outputs": [],
      "source": [
        "class Generator(nn.Module):\n",
        "    def __init__(self, z_dim=10, im_chan=1, hidden_dim=64):\n",
        "        super(Generator, self).__init__()\n",
        "        self.z_dim = z_dim\n",
        "        self.gen = nn.Sequential(\n",
        "            self.make_gen_block(z_dim, hidden_dim * 8),\n",
        "            self.make_gen_block(hidden_dim * 8, hidden_dim * 4, kernel_size=4, stride=1),\n",
        "            self.make_gen_block(hidden_dim * 4, hidden_dim*2),\n",
        "            self.make_gen_block(hidden_dim * 2, hidden_dim),\n",
        "            self.make_gen_block(hidden_dim, im_chan, kernel_size=4, final_layer=True),\n",
        "        )\n",
        "\n",
        "    def make_gen_block(self, input_channels, output_channels, kernel_size=3, stride=2, final_layer=False):\n",
        "        if not final_layer:\n",
        "            return nn.Sequential(\n",
        "                nn.ConvTranspose2d(in_channels=input_channels,\n",
        "                                   out_channels=output_channels,\n",
        "                                   kernel_size=kernel_size,\n",
        "                                   stride=stride,\n",
        "                                   padding=0),\n",
        "                nn.BatchNorm2d(num_features=output_channels),\n",
        "                nn.ReLU()\n",
        "            )\n",
        "        else: # Final Layer\n",
        "            return nn.Sequential(\n",
        "                nn.ConvTranspose2d(in_channels=input_channels,\n",
        "                                   out_channels=output_channels,\n",
        "                                   kernel_size=kernel_size,\n",
        "                                   stride=stride,\n",
        "                                   padding=0),\n",
        "                nn.Tanh()\n",
        "            )\n",
        "\n",
        "    def unsqueeze_noise(self, noise):\n",
        "        return noise.view(len(noise), self.z_dim, 1, 1)\n",
        "\n",
        "    def forward(self, noise):\n",
        "        x = self.unsqueeze_noise(noise)\n",
        "        return self.gen(x)\n",
        "\n",
        "def get_noise(n_samples, z_dim, device='cpu'):\n",
        "    return torch.randn(n_samples, z_dim, device=device)"
      ]
    },
    {
      "cell_type": "code",
      "execution_count": null,
      "metadata": {
        "id": "ds_uSDNsRyyZ"
      },
      "outputs": [],
      "source": [
        "class Discriminator(nn.Module):\n",
        "    def __init__(self, im_chan=1, hidden_dim=16):\n",
        "        super(Discriminator, self).__init__()\n",
        "        self.disc = nn.Sequential(\n",
        "            self.make_disc_block(im_chan, hidden_dim),\n",
        "            self.make_disc_block(hidden_dim, hidden_dim * 2, final_layer=True)#,\n",
        "            #self.make_disc_block(hidden_dim * 2, 1, final_layer=True),\n",
        "        )\n",
        "\n",
        "    def make_disc_block(self, input_channels, output_channels, kernel_size=4, stride=2, final_layer=False):\n",
        "        if not final_layer:\n",
        "            return nn.Sequential(\n",
        "                nn.Conv2d(in_channels=input_channels,\n",
        "                          out_channels=output_channels,\n",
        "                          kernel_size=kernel_size,\n",
        "                          stride=stride),\n",
        "                nn.BatchNorm2d(output_channels),\n",
        "                nn.LeakyReLU(0.2)\n",
        "            )\n",
        "        else: # Final Layer\n",
        "            return nn.Sequential(\n",
        "                nn.Conv2d(in_channels=input_channels,\n",
        "                          out_channels=output_channels,\n",
        "                          kernel_size=kernel_size,\n",
        "                          stride=stride)\n",
        "            )\n",
        "\n",
        "    def forward(self, image):\n",
        "        disc_pred = self.disc(image)\n",
        "        return disc_pred.view(len(disc_pred), -1)"
      ]
    },
    {
      "cell_type": "code",
      "execution_count": null,
      "metadata": {
        "id": "CvuTulOFRyyZ"
      },
      "outputs": [],
      "source": [
        "criterion = nn.BCEWithLogitsLoss()\n",
        "z_dim = 64\n",
        "display_step = 500\n",
        "lr = 0.0001\n",
        "\n",
        "beta_1 = 0.5 \n",
        "beta_2 = 0.999\n",
        "#device = 'cuda'\n",
        "\n",
        "batch_size=8\n",
        "train_loader=DataLoader(dataset=SEM_images, batch_size=batch_size, shuffle=True)"
      ]
    },
    {
      "cell_type": "code",
      "execution_count": null,
      "metadata": {
        "id": "-ruzDoSxRyyZ"
      },
      "outputs": [],
      "source": [
        "gen = Generator(z_dim)#.to(device)\n",
        "gen_opt = torch.optim.Adam(gen.parameters(), lr=lr, betas=(beta_1, beta_2))\n",
        "disc = Discriminator()#.to(device) \n",
        "disc_opt = torch.optim.Adam(disc.parameters(), lr=lr, betas=(beta_1, beta_2))\n",
        "\n",
        "# You initialize the weights to the normal distribution\n",
        "# with mean 0 and standard deviation 0.02\n",
        "def weights_init(m):\n",
        "    if isinstance(m, nn.Conv2d) or isinstance(m, nn.ConvTranspose2d):\n",
        "        torch.nn.init.normal_(m.weight, 0.0, 0.02)\n",
        "    if isinstance(m, nn.BatchNorm2d):\n",
        "        torch.nn.init.normal_(m.weight, 0.0, 0.02)\n",
        "        torch.nn.init.constant_(m.bias, 0)\n",
        "gen = gen.apply(weights_init)\n",
        "disc = disc.apply(weights_init)"
      ]
    },
    {
      "cell_type": "code",
      "execution_count": null,
      "metadata": {
        "id": "3c4UleAhRyya"
      },
      "outputs": [],
      "source": [
        "n_epochs = 10\n",
        "cur_step = 0\n",
        "mean_generator_loss = 0\n",
        "mean_discriminator_loss = 0\n",
        "gen_loss = []\n",
        "disc_loss = []\n",
        "for epoch in range(n_epochs):\n",
        "    # Dataloader returns the batches\n",
        "    for i, real in enumerate(train_loader):\n",
        "        cur_batch_size = len(real)\n",
        "        #real = real.to(device)\n",
        "\n",
        "        ## Update discriminator ##\n",
        "        disc_opt.zero_grad()\n",
        "        fake_noise = get_noise(cur_batch_size, z_dim)#, device=device)\n",
        "        fake = gen(fake_noise)\n",
        "        disc_fake_pred = disc(fake.detach())\n",
        "        disc_fake_loss = criterion(disc_fake_pred, torch.zeros_like(disc_fake_pred))\n",
        "        disc_real_pred = disc(real)\n",
        "        disc_real_loss = criterion(disc_real_pred, torch.ones_like(disc_real_pred))\n",
        "        disc_loss = (disc_fake_loss + disc_real_loss) / 2\n",
        "\n",
        "        # Keep track of the average discriminator loss\n",
        "        mean_discriminator_loss += disc_loss.item() / display_step\n",
        "        # Update gradients\n",
        "        disc_loss.backward(retain_graph=True)\n",
        "        # Update optimizer\n",
        "        disc_opt.step()\n",
        "\n",
        "        ## Update generator ##\n",
        "        gen_opt.zero_grad()\n",
        "        fake_noise_2 = get_noise(cur_batch_size, z_dim)#, device=device)\n",
        "        fake_2 = gen(fake_noise_2)\n",
        "        disc_fake_pred = disc(fake_2)\n",
        "        gen_loss = criterion(disc_fake_pred, torch.ones_like(disc_fake_pred))\n",
        "        gen_loss.backward()\n",
        "        gen_opt.step()\n",
        "\n",
        "        # Keep track of the average generator loss\n",
        "        mean_generator_loss += gen_loss.item() / display_step\n",
        "\n",
        "        ## Visualization code ##\n",
        "        if cur_step % display_step == 0 and cur_step > 0:\n",
        "            print(f\"Epoch {epoch}, step {cur_step}:\"+ \n",
        "                  f\"Generator loss: {mean_generator_loss}, discriminator loss: {mean_discriminator_loss}\")\n",
        "            fix, axs = plt.subplots(ncols=2)\n",
        "            axs[0].imshow(fake[0][0].detach().numpy(),cmap='gray')\n",
        "            axs[0].set(xticklabels=[], yticklabels=[], xticks=[], yticks=[])\n",
        "            axs[1].imshow(real[0][0].detach().numpy(),cmap='gray')\n",
        "            axs[1].set(xticklabels=[], yticklabels=[], xticks=[], yticks=[])\n",
        "            plt.show()\n",
        "            gen_loss.append(mean_generator_loss)\n",
        "            disc_loss.append(mean_discriminator_loss)\n",
        "            mean_generator_loss = 0\n",
        "            mean_discriminator_loss = 0\n",
        "        cur_step += 1"
      ]
    },
    {
      "cell_type": "markdown",
      "metadata": {
        "id": "HSzLKvaDRyya"
      },
      "source": [
        "### W-Net block"
      ]
    },
    {
      "cell_type": "code",
      "execution_count": null,
      "metadata": {
        "id": "mOorM8R3Ryya"
      },
      "outputs": [],
      "source": [
        "class W_Net(nn.Module):\n",
        "    def __init__(self, input_channels = 1):\n",
        "        super().__init__()\n",
        "        \n",
        "        #1st floor: channels: 1 -> 64 -> 64\n",
        "        self.floor_1 = nn.Sequential(self.simple_conv2d_block(input_channels, input_channels*64),\n",
        "                                     self.simple_conv2d_block(input_channels*64, input_channels*64))\n",
        "        #1st donwscale: im_size: 64 -> 32\n",
        "        self.downscale_1 = nn.Sequential(self.simple_maxpool_block(kernel_size = 2, stride = 2))\n",
        "        #2nd floor: channels: 64 -> 128 -> 128\n",
        "        self.floor_2 = nn.Sequential(self.simple_conv2d_block(input_channels*64, input_channels*128),\n",
        "                                     self.simple_conv2d_block(input_channels*128, input_channels*128))\n",
        "        #2nd donwscale: im_size: 32 -> 16\n",
        "        self.downscale_2 = nn.Sequential(self.simple_maxpool_block(kernel_size = 2, stride = 2))\n",
        "        #3d floor: channels: 128 -> 256 -> 256\n",
        "        self.floor_3 = nn.Sequential(self.simple_conv2d_block(input_channels*128, input_channels*256),\n",
        "                                     self.simple_conv2d_block(input_channels*256, input_channels*256))\n",
        "        #2nd upscale: im_size: 16 -> 32; channels: 256 -> 128\n",
        "        self.upscale_2 = nn.Sequential(self.simple_convtranspose2d_block(input_channels*256, input_channels*128))\n",
        "        #2nd floor: channels: 256 -> 128 -> 128\n",
        "        self.floor_2_up = nn.Sequential(self.simple_conv2d_block(input_channels*256, input_channels*128),\n",
        "                                     self.simple_conv2d_block(input_channels*128, input_channels*128))\n",
        "        #1st upscale: im_size: 32 -> 64; channels: 128 -> 64\n",
        "        self.upscale_1 = nn.Sequential(self.simple_convtranspose2d_block(input_channels*128, input_channels*64))\n",
        "        #1st floor: channels: 128 -> 64 -> 1\n",
        "        self.floor_1_up = nn.Sequential(self.simple_conv2d_block(input_channels*128, input_channels*64),\n",
        "                                     self.simple_conv2d_block(input_channels*64, input_channels))\n",
        "\n",
        "    def simple_conv2d_block(self, input_channels, output_channels, kernel_size=3, padding = 1):\n",
        "        return nn.Sequential(\n",
        "            nn.Conv2d(in_channels=input_channels,\n",
        "                      out_channels=output_channels,\n",
        "                      kernel_size=kernel_size,\n",
        "                      padding = 1),\n",
        "            nn.BatchNorm2d(output_channels),\n",
        "            nn.LeakyReLU(0.2))\n",
        "            \n",
        "    def simple_maxpool_block(self, kernel_size = 2, stride = 2):\n",
        "        return nn.MaxPool2d(kernel_size, stride)\n",
        "    \n",
        "    def simple_convtranspose2d_block(self, input_channels, output_channels, kernel_size=2,\n",
        "                                     stride = 2, padding = 1):\n",
        "        return nn.Sequential(\n",
        "            nn.ConvTranspose2d(in_channels = input_channels,\n",
        "                               out_channels = output_channels,\n",
        "                               kernel_size = kernel_size, \n",
        "                               stride = stride),\n",
        "                               #padding = padding),\n",
        "            nn.BatchNorm2d(int(input_channels/2)),\n",
        "            nn.LeakyReLU(0.2))\n",
        "        \n",
        "    def concat(self, tensor1, tensor2):\n",
        "        return torch.cat((tensor1, tensor2),1)\n",
        "    \n",
        "    def u_net(self, image):\n",
        "        #downsampling\n",
        "        tensor_1 = self.floor_1(image) #1st floor\n",
        "        tensor_2 = self.downscale_1(tensor_1) \n",
        "        tensor_2 = self.floor_2(tensor_2) #2nd floor\n",
        "        tensor_3 = self.downscale_2(tensor_2)\n",
        "        #cellar\n",
        "        tensor_3 = self.floor_3(tensor_3) #3d floor\n",
        "        #upscale\n",
        "        tensor_2_up = self.upscale_2(tensor_3)\n",
        "        #concatenation\n",
        "        concat_2 = self.concat(tensor_2, tensor_2_up) #2nd floor\n",
        "        tensor_2_up = self.floor_2_up(concat_2)\n",
        "        #upscale\n",
        "        tensor_1_up = self.upscale_1(tensor_2_up)\n",
        "        #concatenation \n",
        "        concat_1 = self.concat(tensor_1, tensor_1_up) #1st floor\n",
        "        mask = self.floor_1_up(concat_1)\n",
        "        return mask\n",
        "    \n",
        "    def w_net(self, image):\n",
        "        mask = self.u_net(image)\n",
        "        artificial_image = self.u_net(mask)\n",
        "        return mask, artificial_image\n",
        "\n",
        "wnet=W_Net()"
      ]
    },
    {
      "cell_type": "code",
      "execution_count": null,
      "metadata": {
        "id": "0HEsgadlRyyb"
      },
      "outputs": [],
      "source": [
        "input=torch.tensor(croped_images[75734],dtype=torch.float)\n",
        "input=input[None,None,:]\n",
        "print(input.size())\n",
        "mask, output=wnet.w_net(input)\n",
        "print(mask.size())\n",
        "print(output.size())\n",
        "plt.imshow(input[0][0].detach().numpy())\n",
        "plt.show()\n",
        "plt.imshow(mask[0][0].detach().numpy())\n",
        "plt.show()\n",
        "plt.imshow(output[0][0].detach().numpy())"
      ]
    },
    {
      "cell_type": "code",
      "execution_count": null,
      "metadata": {
        "id": "JqQTXIxaRyyb"
      },
      "outputs": [],
      "source": [
        "class NCutLoss2D(nn.Module):\n",
        "    r\"\"\"Implementation of the continuous N-Cut loss, as in:\n",
        "    'W-Net: A Deep Model for Fully Unsupervised Image Segmentation', by Xia, Kulis (2017)\"\"\"\n",
        "\n",
        "    def __init__(self, radius: int = 4, sigma_1: float = 5, sigma_2: float = 1):\n",
        "        r\"\"\"\n",
        "        :param radius: Radius of the spatial interaction term\n",
        "        :param sigma_1: Standard deviation of the spatial Gaussian interaction\n",
        "        :param sigma_2: Standard deviation of the pixel value Gaussian interaction\n",
        "        \"\"\"\n",
        "        super(NCutLoss2D, self).__init__()\n",
        "        self.radius = radius\n",
        "        self.sigma_1 = sigma_1  # Spatial standard deviation\n",
        "        self.sigma_2 = sigma_2  # Pixel value standard deviation\n",
        "\n",
        "    def forward(self, labels: Tensor, inputs: Tensor) -> Tensor:\n",
        "        r\"\"\"Computes the continuous N-Cut loss, given a set of class probabilities (labels) and raw images (inputs).\n",
        "        Small modifications have been made here for efficiency -- specifically, we compute the pixel-wise weights\n",
        "        relative to the class-wide average, rather than for every individual pixel.\n",
        "        :param labels: Predicted class probabilities\n",
        "        :param inputs: Raw images\n",
        "        :return: Continuous N-Cut loss\n",
        "        \"\"\"\n",
        "        num_classes = labels.shape[1]\n",
        "        kernel = gaussian_kernel(radius=self.radius, sigma=self.sigma_1, device=labels.device.type)\n",
        "        loss = 0\n",
        "\n",
        "        for k in range(num_classes):\n",
        "            # Compute the average pixel value for this class, and the difference from each pixel\n",
        "            class_probs = labels[:, k].unsqueeze(1)\n",
        "            class_mean = torch.mean(inputs * class_probs, dim=(2, 3), keepdim=True) / \\\n",
        "                torch.add(torch.mean(class_probs, dim=(2, 3), keepdim=True), 1e-5)\n",
        "            diff = (inputs - class_mean).pow(2).sum(dim=1).unsqueeze(1)\n",
        "\n",
        "            # Weight the loss by the difference from the class average.\n",
        "            weights = torch.exp(diff.pow(2).mul(-1 / self.sigma_2 ** 2))\n",
        "\n",
        "            # Compute N-cut loss, using the computed weights matrix, and a Gaussian spatial filter\n",
        "            numerator = torch.sum(class_probs * F.conv2d(class_probs * weights, kernel, padding=self.radius))\n",
        "            denominator = torch.sum(class_probs * F.conv2d(weights, kernel, padding=self.radius))\n",
        "            loss += nn.L1Loss()(numerator / torch.add(denominator, 1e-6), torch.zeros_like(numerator))\n",
        "\n",
        "        return num_classes - loss"
      ]
    },
    {
      "cell_type": "markdown",
      "metadata": {
        "id": "0aouB_GWRyyb"
      },
      "source": [
        "### CNN block"
      ]
    },
    {
      "cell_type": "code",
      "execution_count": null,
      "metadata": {
        "id": "pxmCmmxCRyyc",
        "outputId": "84024393-9f93-4407-c3ca-25b21f34183d"
      },
      "outputs": [
        {
          "name": "stdout",
          "output_type": "stream",
          "text": [
            "SEM(\n",
            "  (cnn): Sequential(\n",
            "    (0): Sequential(\n",
            "      (0): Conv2d(100, 200, kernel_size=(4, 4), stride=(2, 2), padding=(1, 1))\n",
            "      (1): BatchNorm2d(200, eps=1e-05, momentum=0.1, affine=True, track_running_stats=True)\n",
            "      (2): LeakyReLU(negative_slope=0.2)\n",
            "    )\n",
            "    (1): Sequential(\n",
            "      (0): Conv2d(200, 400, kernel_size=(4, 4), stride=(2, 2), padding=(1, 1))\n",
            "      (1): BatchNorm2d(400, eps=1e-05, momentum=0.1, affine=True, track_running_stats=True)\n",
            "      (2): LeakyReLU(negative_slope=0.2)\n",
            "    )\n",
            "    (2): Conv2d(400, 800, kernel_size=(4, 4), stride=(2, 2), padding=(1, 1))\n",
            "  )\n",
            "  (linear): Sequential(\n",
            "    (0): Linear(in_features=100, out_features=100, bias=True)\n",
            "    (1): ReLU()\n",
            "    (2): Linear(in_features=100, out_features=10, bias=True)\n",
            "    (3): ReLU()\n",
            "    (4): Linear(in_features=10, out_features=2, bias=True)\n",
            "  )\n",
            ")\n"
          ]
        }
      ],
      "source": [
        "class SEM(nn.Module):\n",
        "    def __init__(self, input_dim):\n",
        "        super().__init__()\n",
        "        self.cnn = self.CNN_block(input_dim)\n",
        "        self.linear = self.linear_block(input_dim)\n",
        "        #self.get_simple_block=self.get_simple_block(input_dim)\n",
        "        \n",
        "    def get_simple_block(self, input_dim, kernel_size=4, stride=2, padding=1, last_layer=False):\n",
        "        if not last_layer:\n",
        "            return nn.Sequential(\n",
        "                nn.Conv2d(input_dim, \n",
        "                          input_dim*2,\n",
        "                          kernel_size,\n",
        "                          stride,\n",
        "                          padding=padding),\n",
        "                nn.BatchNorm2d(input_dim*2),\n",
        "                nn.LeakyReLU(0.2)\n",
        "            )\n",
        "        else:\n",
        "            return nn.Conv2d(input_dim, \n",
        "                          input_dim*2,\n",
        "                          kernel_size,\n",
        "                          stride,\n",
        "                          padding=padding)\n",
        "    \n",
        "    def CNN_block(self, input_dim, kernel_size=4, stride=2, padding=1):\n",
        "        return nn.Sequential(self.get_simple_block(input_dim, kernel_size, stride, padding),\n",
        "                             self.get_simple_block(input_dim*2, kernel_size, stride, padding),\n",
        "                             self.get_simple_block(input_dim*4, kernel_size, stride, padding,last_layer=True))\n",
        "    \n",
        "    def linear_block(self, input_dim):\n",
        "        return nn.Sequential(nn.Linear(input_dim,100),\n",
        "                     nn.ReLU(),\n",
        "                     nn.Linear(100,10),\n",
        "                     nn.ReLU(),\n",
        "                     nn.Linear(10,2))\n",
        "    \n",
        "    def forward(self,x):\n",
        "        block=self.cnn(x.shape[1], kernel_size=4, stride=2, padding=1)\n",
        "        x=block(x)\n",
        "        x=torch.flatten(x, 1)\n",
        "        lin_block=self.linear(x.shape[1])\n",
        "        x=lin_block(x)\n",
        "        return x\n",
        "\n",
        "\n",
        "net=SEM(100)\n",
        "print(net)#.parameters()"
      ]
    },
    {
      "cell_type": "markdown",
      "metadata": {
        "id": "TK4lhzbgRyyc"
      },
      "source": [
        "### Train block"
      ]
    },
    {
      "cell_type": "code",
      "execution_count": null,
      "metadata": {
        "id": "fm8x8WsERyyc"
      },
      "outputs": [],
      "source": [
        "learning_rate=0.01\n",
        "def criterion(return_mean, true_mean, return_disp, true_disp):\n",
        "    return torch.Tensor((true_mean-return_mean)**2+(true_disp-return_disp)**2)\n",
        "optimizer=torch.optim.SGD(net.parameters(), lr=learning_rate)"
      ]
    },
    {
      "cell_type": "code",
      "execution_count": null,
      "metadata": {
        "id": "Om9VCXFQRyyc"
      },
      "outputs": [],
      "source": [
        "def train(criterion, model=net, optimizer=optimizer, num_epochs=2):\n",
        "    best_acc = 0.0\n",
        "    for epoch in range(num_epochs):\n",
        "        print(f'Epoch {epoch}/{num_epochs - 1}')\n",
        "        print('-' * 10)\n",
        "        running_loss = 0.0\n",
        "        running_corrects = 0\n",
        "        for _, (image, mean, disp) in enumerate(train_loader):\n",
        "            optimizer.zero_grad()\n",
        "            outputs = model(image)\n",
        "            loss = criterion(outputs[0], mean, outputs[1], disp)\n",
        "            loss.backward()\n",
        "            optimizer.step()\n",
        "            running_loss += loss.item() * inputs.size(0)\n",
        "            running_corrects += torch.sum(preds == labels.data)\n",
        "            epoch_loss = running_loss / dataset_sizes[phase]\n",
        "            epoch_acc = running_corrects.double() / dataset_sizes[phase]\n",
        "            print(f'{phase} Loss: {epoch_loss:.4f} Acc: {epoch_acc:.4f}')\n",
        "    print(f'Best val Acc: {best_acc:4f}')\n",
        "    return\n",
        "\n",
        "train(criterion)"
      ]
    }
  ],
  "metadata": {
    "kernelspec": {
      "display_name": "Python 3",
      "language": "python",
      "name": "python3"
    },
    "language_info": {
      "codemirror_mode": {
        "name": "ipython",
        "version": 3
      },
      "file_extension": ".py",
      "mimetype": "text/x-python",
      "name": "python",
      "nbconvert_exporter": "python",
      "pygments_lexer": "ipython3",
      "version": "3.8.5"
    },
    "colab": {
      "name": "Ceramic_grain_segmentation.ipynb",
      "provenance": [],
      "include_colab_link": true
    }
  },
  "nbformat": 4,
  "nbformat_minor": 0
}