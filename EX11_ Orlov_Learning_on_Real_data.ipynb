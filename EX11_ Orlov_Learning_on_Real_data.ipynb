{
  "cells": [
    {
      "cell_type": "markdown",
      "metadata": {
        "id": "XD1W7pxqnFMK"
      },
      "source": [
        "# Вспомогательные функции"
      ]
    },
    {
      "cell_type": "code",
      "metadata": {
        "id": "65mU1MkYnFML"
      },
      "source": [
        "import shutil\n",
        "import os\n",
        "# Helper method to run Tensorboard in Colab\n",
        "def reinit_tensorboard(clear_log = True):\n",
        "  logs_base_dir = \"/content/runs\" # Directory for log files\n",
        "  if clear_log:    \n",
        "    shutil.rmtree(logs_base_dir, ignore_errors = True)\n",
        "    os.makedirs(logs_base_dir, exist_ok=True)\n",
        "  # Colab magic\n",
        "  %reload_ext tensorboard\n",
        "  %tensorboard --logdir {logs_base_dir}"
      ],
      "execution_count": 1,
      "outputs": []
    },
    {
      "cell_type": "code",
      "metadata": {
        "id": "y51Wr5oRnFMM"
      },
      "source": [
        "import torch\n",
        "import random\n",
        "import numpy as np\n",
        "torch.manual_seed(42)\n",
        "random.seed(42)\n",
        "np.random.seed(42)\n",
        "\n",
        "device = torch.device(\"cuda:0\" if torch.cuda.is_available() else \"cpu\")"
      ],
      "execution_count": 2,
      "outputs": []
    },
    {
      "cell_type": "markdown",
      "metadata": {
        "id": "Tvggxe0enFMN"
      },
      "source": [
        "# Задание 1. Onera Satellite Change Detection Dataset\n",
        "\n",
        "В этом задании мы будем работать с датасетом `OSCD images` - [Onera Satellite Change Detection Dataset](https://rcdaudt.github.io/oscd/). \n",
        "\n",
        "В наборе данных рассматривается вопрос обнаружения изменений между спутниковыми снимками разных дат.\n",
        "\n",
        "Он включает 24 пары изображений, полученных со спутников Sentinel-2 в период с 2015 по 2018 год. Места съемки выбраны по всему миру, в Бразилии, США, Европе, на Ближнем Востоке и в Азии. Для каждого места представлены зарегистрированные пары спутниковых изображений, полученных спутниками Sentinel-2. Пространственное разрешение снимков варьируется в пределах 10 м, 20 м и 60 м.\n",
        "\n",
        "Для всех 14 пар учебных и 10 пар тестовых снимков предоставлены данные об изменениях на уровне пикселей. Аннотированные изменения сосредоточены на городских изменениях, таких как новые здания или новые дороги.\n",
        "\n",
        "Вот их то мы и будем искать"
      ]
    },
    {
      "cell_type": "markdown",
      "metadata": {
        "id": "RcTyOqVMnFMN"
      },
      "source": [
        "## Загрузка и подготовка данных"
      ]
    },
    {
      "cell_type": "code",
      "metadata": {
        "id": "ZPsXdsJanFMN"
      },
      "source": [
        "import os\n",
        "\n",
        "path = '/content/oscd/'\n",
        "dataset_path = '/content/oscd_images/'\n",
        "\n",
        "!mkdir -p {path}\n",
        "!gdown --id 1jidN0DKEIybOrP0j7Bos8bGDDq3Varj3\n",
        "!unzip OSCD.zip -d {path}\n",
        "!rm OSCD.zip\n",
        "!mv {path}'/Onera Satellite Change Detection dataset - Images.zip' {path}/Images.zip\n",
        "!mv {path}'/Onera Satellite Change Detection dataset - Train Labels.zip' {path}/TrainLabels.zip\n",
        "!mv {path}'/Onera Satellite Change Detection dataset - Test Labels.zip' {path}/TestLabels.zip\n",
        "!unzip {path}/Images.zip -d {path}\n",
        "!unzip {path}/TrainLabels.zip -d {path}\n",
        "!unzip {path}/TestLabels.zip -d {path}\n",
        "!mv {path}'/Onera Satellite Change Detection dataset - Images' {path}/images\n",
        "!mv {path}'/Onera Satellite Change Detection dataset - Train Labels' {path}/train_labels\n",
        "!mv {path}'/Onera Satellite Change Detection dataset - Test Labels' {path}/test_labels\n",
        "!rm {path}/Images.zip\n",
        "!rm {path}/TrainLabels.zip\n",
        "!rm {path}/TestLabels.zip\n",
        "\n",
        "!mkdir {dataset_path}\n",
        "\n",
        "!mkdir {dataset_path}/train\n",
        "!mkdir {dataset_path}/test\n",
        "\n",
        "path_final = '/content/oscd/images/'\n",
        "for folder in os.listdir(path_final):\n",
        "    if os.path.isdir(path_final+folder):\n",
        "        for im in os.listdir(path_final+folder+'/'+'pair'):\n",
        "            if folder in os.listdir('/content/oscd/train_labels/'):\n",
        "                dest = 'train/'\n",
        "                if 'cm.png' in os.listdir('/content/oscd/train_labels/'+folder+'/cm/'):\n",
        "                    os.rename('/content/oscd/train_labels/'+folder+'/cm/cm.png', dataset_path+dest+folder+'_mask.png')\n",
        "            else:\n",
        "                dest = 'test/'\n",
        "                if 'cm.png' in os.listdir('/content/oscd/test_labels/'+folder+'/cm/'):\n",
        "                    os.rename('/content/oscd/test_labels/'+folder+'/cm/cm.png', dataset_path+dest+folder+'_mask.png')\n",
        "            os.rename(path_final+folder+'/'+'pair/'+im, dataset_path+dest+folder+'_'+im)"
      ],
      "execution_count": null,
      "outputs": []
    },
    {
      "cell_type": "markdown",
      "metadata": {
        "id": "K6IKz3innFMO"
      },
      "source": [
        "### Посмотрим что мы вообще загрузили"
      ]
    },
    {
      "cell_type": "code",
      "metadata": {
        "id": "1oCpeyVMnFMO",
        "colab": {
          "base_uri": "https://localhost:8080/",
          "height": 273
        },
        "outputId": "d4405a48-f6ff-4e44-9f2a-688003358ead"
      },
      "source": [
        "from PIL import Image\n",
        "import matplotlib.pyplot as plt\n",
        "\n",
        "city = 'norcia'\n",
        "img1 = Image.open('/content/oscd_images/test/%s_img1.png' % city) \n",
        "img2 = Image.open('/content/oscd_images/test/%s_img2.png' % city)\n",
        "mask = Image.open('/content/oscd_images/test/%s_mask.png' % city)\n",
        "\n",
        "fig,ax = plt.subplots(ncols=3, figsize=(20,7))\n",
        "ax[0].imshow(img1)\n",
        "ax[1].imshow(img1)\n",
        "ax[2].imshow(mask, cmap='inferno')\n",
        "\n",
        "ax[0].set_title('1 Image from a pair')\n",
        "ax[1].set_title('2 Images from a pair')\n",
        "ax[2].set_title('Differences')\n",
        "\n",
        "for a in ax:\n",
        "    a.axis('off')"
      ],
      "execution_count": 4,
      "outputs": [
        {
          "output_type": "display_data",
          "data": {
            "image/png": "[encoded data removed]",
            "text/plain": [
              "<Figure size 1440x504 with 3 Axes>"
            ]
          },
          "metadata": {
            "needs_background": "light"
          }
        }
      ]
    },
    {
      "cell_type": "markdown",
      "metadata": {
        "id": "DnCzXoeOnFMO"
      },
      "source": [
        "### Разобьем наши данные на патчи\n",
        "\n",
        "Как мы видим данных не очень много - всего 24 пары. При этом они довольно большого разрешения. Перед нами стоит задача определять изменения между парами. Нужно ли нам для этого смотреть на все изображение сразу? Нет. Поэтому мы разобьем их на патчи."
      ]
    },
    {
      "cell_type": "markdown",
      "metadata": {
        "id": "DflzT9RgnFMP"
      },
      "source": [
        "#### Задача 1.1. Разбейте спутниковые снимки на патчи\n",
        " Разбейте спутниковые снимки на патчи размером (15,15). Поместите все патчи `img1` в папку 1, `img2` в папку 2, `mask` в папку mask. Не забудьте про заранее заданное разбиение на train и test"
      ]
    },
    {
      "cell_type": "code",
      "metadata": {
        "id": "-VDKBss3nFMP"
      },
      "source": [
        "!mkdir /content/oscd_patches\n",
        "!mkdir /content/oscd_patches/train\n",
        "!mkdir /content/oscd_patches/train/1/\n",
        "!mkdir /content/oscd_patches/train/2/\n",
        "!mkdir /content/oscd_patches/train/mask/\n",
        "!mkdir /content/oscd_patches/test\n",
        "!mkdir /content/oscd_patches/test/1/\n",
        "!mkdir /content/oscd_patches/test/2/\n",
        "!mkdir /content/oscd_patches/test/mask/"
      ],
      "execution_count": 5,
      "outputs": []
    },
    {
      "cell_type": "code",
      "metadata": {
        "id": "FbKX6oGSnFMP",
        "colab": {
          "base_uri": "https://localhost:8080/",
          "height": 69,
          "referenced_widgets": [
            "e57cb7090bce467b94909940ce8a2dd3",
            "44bdfbace6244da5b7f26dda24fc211f",
            "fef1363017034479a16242127dfe519e",
            "79082a54be854119829559fafbf815a6",
            "7bb41f7fc5bc4fb7a7347f1ff282e459",
            "42449eeb240f48c7ac5128cbc3df3f32",
            "f4d5e8a0a2f54d669fd2e59920a0cfd3",
            "fc49ade81ed244ad89c37259a9ad8622",
            "8e44c1dc521440d78243fd7f984aa7ff",
            "dbeee2f5579d4bb79c1319930c5a1ddf",
            "f9b220b181f14e828f547d39d61925b4"
          ]
        },
        "outputId": "6c3c0251-80dd-46bf-8d18-97a38fe40707"
      },
      "source": [
        "from tqdm.notebook import tqdm\n",
        "from glob import glob\n",
        "from PIL import Image\n",
        "import numpy as np\n",
        "\n",
        "def produce_patches(root_dir, desination_dir, partition, patch_size=15):\n",
        "    img1_path = sorted(glob('%s/%s/*img1*' % (root_dir, partition)))\n",
        "    img2_path = sorted(glob('%s/%s/*img2*' % (root_dir, partition)))\n",
        "    mask_path = sorted(glob('%s/%s/*mask*' % (root_dir, partition)))\n",
        "    \n",
        "\n",
        "    for idx in tqdm(range(len(img1_path))):\n",
        "        img1 = Image.open(img1_path[idx])\n",
        "        img2 = Image.open(img2_path[idx])\n",
        "        mask = Image.open(mask_path[idx])\n",
        "\n",
        "        # Resize image so each size is divisable by patch size\n",
        "        # in task 4.2 has hints\n",
        "        \n",
        "        ## ENTER YOUR CODE HERE ##\n",
        "\n",
        "        # split image to patches of size=(patch_size,patch_size)\n",
        "        def crop(img, crop_path, height=15, width=15, k=0):\n",
        "          list=[]\n",
        "          imgwidth, imgheight = img.size\n",
        "          for i in range(0,imgheight,height):\n",
        "            for j in range(0,imgwidth,width):\n",
        "              crop = (j, i, j+width, i+height)\n",
        "              patch = img.crop(crop)\n",
        "              list.append(patch)\n",
        "          return list\n",
        "        \n",
        "        img1_patches=crop(img1, 'oscd_images/'+partition+'/1')\n",
        "        img2_patches=crop(img2, 'oscd_images/'+partition+'/2')\n",
        "        mask_patches=crop(mask, 'oscd_images/'+partition+'/mask')\n",
        "\n",
        "        for i in range(len(img1_patches)):\n",
        "        \n",
        "            name_1 = '%s%s/1/%s_%i.png' % (desination_dir, partition, img1_path[idx].split('/')[-1].split('_')[0], i)\n",
        "            name_2 = '%s%s/2/%s_%i.png' % (desination_dir, partition, img2_path[idx].split('/')[-1].split('_')[0], i)\n",
        "            name_mask = '%s%s/mask/%s_%i.png' % (desination_dir, partition, mask_path[idx].split('/')[-1].split('_')[0], i)\n",
        "            img1_patches[i].save(name_1)\n",
        "            img2_patches[i].save(name_2)\n",
        "            mask_patches[i].save(name_mask)\n",
        "\n",
        "dataset_path = '/content/oscd_images/'\n",
        "desination_dir = '/content/oscd_patches/'\n",
        "\n",
        "produce_patches(dataset_path, desination_dir, partition='train')"
      ],
      "execution_count": 6,
      "outputs": [
        {
          "output_type": "display_data",
          "data": {
            "application/vnd.jupyter.widget-view+json": {
              "model_id": "e57cb7090bce467b94909940ce8a2dd3",
              "version_minor": 0,
              "version_major": 2
            },
            "text/plain": [
              "  0%|          | 0/14 [00:00<?, ?it/s]"
            ]
          },
          "metadata": {}
        }
      ]
    },
    {
      "cell_type": "code",
      "source": [
        "produce_patches(dataset_path, desination_dir, partition='test')"
      ],
      "metadata": {
        "colab": {
          "base_uri": "https://localhost:8080/",
          "height": 69,
          "referenced_widgets": [
            "17fab8f8b7ec4fbfa8aa7e7a79d44921",
            "19679a2b26ab4692975ee7d38ad0096a",
            "941a4df561d9400d806c00793d5d644e",
            "c7e147122dff435dbd976c0fc81b04b9",
            "6d6127d002134014a5896ed4c791100f",
            "0152cd4d77564ea388a0cf499c912e88",
            "439b83436d63492da0421541809126e2",
            "5699b2afae214a36a38ca671c4366eec",
            "dc87bb7d428a488db08e98a8e90166b4",
            "a32496d98b6f464aa40447ed335d335a",
            "677d23489f8a4c64a930e57d4343ad0d"
          ]
        },
        "id": "bV6782WnO2Ok",
        "outputId": "163ba29d-903e-4436-dee1-dca166661801"
      },
      "execution_count": 7,
      "outputs": [
        {
          "output_type": "display_data",
          "data": {
            "application/vnd.jupyter.widget-view+json": {
              "model_id": "17fab8f8b7ec4fbfa8aa7e7a79d44921",
              "version_minor": 0,
              "version_major": 2
            },
            "text/plain": [
              "  0%|          | 0/10 [00:00<?, ?it/s]"
            ]
          },
          "metadata": {}
        }
      ]
    },
    {
      "cell_type": "markdown",
      "metadata": {
        "id": "NpjraWEznFMP"
      },
      "source": [
        "### Соберем `Dataset`"
      ]
    },
    {
      "cell_type": "code",
      "metadata": {
        "id": "gxkkjXKBnFMQ"
      },
      "source": [
        "from torch.utils.data import Dataset\n",
        "from torchvision.transforms import Compose, ToTensor, RandomAutocontrast, RandomAdjustSharpness\n",
        "from PIL import Image\n",
        "import torchvision\n",
        "\n",
        "class SatDataset(Dataset):\n",
        "    def __init__(self, root_dir, partition, size=15, thres=0.5, transform=None):\n",
        "        self.thres = thres\n",
        "        self.root_dir = root_dir\n",
        "        self.transform = transform\n",
        "        self.partition = partition\n",
        "\n",
        "        self.img1_path = os.listdir('%s/%s/1/' % (self.root_dir, partition))\n",
        "        self.img2_path = os.listdir('%s/%s/2/' % (self.root_dir, partition))\n",
        "        self.mask_path = os.listdir('%s/%s/mask/' % (self.root_dir, partition))\n",
        "\n",
        "    def __len__(self):\n",
        "        return len(self.img1_path)\n",
        "\n",
        "    def __getitem__(self, idx):\n",
        "        \n",
        "        img1 = Image.open('%s/%s/1/%s' % (self.root_dir, self.partition, self.img1_path[idx]))\n",
        "        img2 = Image.open('%s/%s/2/%s' % (self.root_dir, self.partition, self.img2_path[idx]))\n",
        "        mask = np.array(Image.open('%s/%s/mask/%s' % (self.root_dir, self.partition, self.mask_path[idx])))\n",
        "        \n",
        "        if self.transform:\n",
        "            img1 = self.transform(img1)\n",
        "            img2 = self.transform(img2)\n",
        "\n",
        "        if np.mean(mask/mask.max()) < self.thres:\n",
        "            label = torch.tensor(0)\n",
        "        else:\n",
        "            label = torch.tensor(1)\n",
        "\n",
        "        return torch.stack((img1, img2)), label"
      ],
      "execution_count": 8,
      "outputs": []
    },
    {
      "cell_type": "markdown",
      "metadata": {
        "id": "T-cqbO0WnFMQ"
      },
      "source": [
        "### Задача 1.2. Определим аугментации для данных\n",
        "\n",
        "Подумайте, какие аугментации будут способстовать обнаружению изменений. Внимательно посмотрите на пары изображений. Какие аугментации будут бессмысленны? Какие только навредят?\n",
        "\n",
        "Используйте любые библиотеки аугментации из лекции (augly, torchvision, albumentation и так далее) на свой вкус"
      ]
    },
    {
      "cell_type": "code",
      "metadata": {
        "id": "Tp0Bpy0unFMQ"
      },
      "source": [
        "from torchvision.transforms import RandomPerspective, RandomRotation, RandomAffine, RandomHorizontalFlip\n",
        "transform = Compose([RandomPerspective(distortion_scale=0.5, p=0.5),\n",
        "                     RandomRotation(degrees=(0, 180)),\n",
        "                     RandomHorizontalFlip(p=0.5),\n",
        "                     ToTensor()])\n",
        "\n",
        "\n",
        "transform1 = Compose([ToTensor()])\n",
        "from torch.utils.data import DataLoader\n",
        "torch.manual_seed(2)\n",
        "\n",
        "\n",
        "Sat_dataloader_original = DataLoader(\n",
        "    SatDataset('/content/oscd_patches/',partition='train', transform=transform1), batch_size=8, shuffle=False)\n",
        "\n",
        "Sat_dataloader = DataLoader(\n",
        "    SatDataset('/content/oscd_patches/',partition='train', transform=transform), batch_size=8, shuffle=False)\n",
        "\n",
        "data_original=iter(Sat_dataloader_original)\n",
        "data = iter(Sat_dataloader)"
      ],
      "execution_count": 9,
      "outputs": []
    },
    {
      "cell_type": "code",
      "source": [
        "def show_img(img):\n",
        "  fig, ax = plt.subplots(1,8,figsize=(25, 25))\n",
        "  img_np = img[0].numpy()\n",
        "  for i in range(len(img_np)):\n",
        "    img_np_=img_np[i][0].reshape(15,15,3)\n",
        "    ax[i].imshow(img_np_)\n",
        "  plt.show()\n",
        "\n",
        "data_original=iter(Sat_dataloader_original)\n",
        "data = iter(Sat_dataloader)\n",
        "\n",
        "show_img(data_original.next())\n",
        "show_img(data.next())"
      ],
      "metadata": {
        "colab": {
          "base_uri": "https://localhost:8080/",
          "height": 348
        },
        "id": "9bcKZkcA2Nwj",
        "outputId": "9c36428b-1364-4720-b377-fccda460f908"
      },
      "execution_count": 10,
      "outputs": [
        {
          "output_type": "display_data",
          "data": {
            "image/png": "[encoded data removed]",
            "text/plain": [
              "<Figure size 1800x1800 with 8 Axes>"
            ]
          },
          "metadata": {
            "needs_background": "light"
          }
        },
        {
          "output_type": "display_data",
          "data": {
            "image/png": "[encoded data removed]",
            "text/plain": [
              "<Figure size 1800x1800 with 8 Axes>"
            ]
          },
          "metadata": {
            "needs_background": "light"
          }
        }
      ]
    },
    {
      "cell_type": "markdown",
      "metadata": {
        "id": "_r0x2fCpnFMQ"
      },
      "source": [
        "### Разобьем наш train dataset на train и val "
      ]
    },
    {
      "cell_type": "code",
      "metadata": {
        "id": "KpvILgMvnFMQ"
      },
      "source": [
        "desination_dir = '/content/oscd_patches/'\n",
        "\n",
        "dataset = SatDataset(desination_dir, partition='train', transform = transform)\n",
        "\n",
        "train_set, val_set = torch.utils.data.random_split(dataset, [int(len(dataset)*0.8), int(len(dataset)) - int(len(dataset)*0.8)])"
      ],
      "execution_count": 11,
      "outputs": []
    },
    {
      "cell_type": "markdown",
      "metadata": {
        "id": "ppamQfi9nFMR"
      },
      "source": [
        "## Сиамские сети\n",
        "\n",
        "В лекции мы разобрали, что когда данных немного и нужно определить похожи изображения или нет - можно использовать сиамские сети. Для задачи определения изменений на спутниковых снимках нам как раз подходит."
      ]
    },
    {
      "cell_type": "markdown",
      "metadata": {
        "id": "lAavFVtBnFMR"
      },
      "source": [
        "### Задача 2. Напишите Сиамскую сеть для определния изменений в парах изображений"
      ]
    },
    {
      "cell_type": "code",
      "metadata": {
        "id": "UWEw_t1dnFMR"
      },
      "source": [
        "import torch\n",
        "import torch.nn as nn\n",
        "\n",
        "class Siam(nn.Module):\n",
        "    def __init__(self, channels: int = 3, t: int = 2, num_classes: int = 2):\n",
        "        super().__init__()\n",
        "        ## ENTER YOUR CODE HERE ##\n",
        "\n",
        "    def forward(self, x: torch.Tensor) -> torch.Tensor:\n",
        "        ## ENTER YOUR CODE HERE ##\n",
        "        return x\n",
        "\n",
        "class SiameseNet(nn.Module):\n",
        "    def __init__(self):\n",
        "        super().__init__()\n",
        "        self.model = resnet18(pretrained = False)\n",
        "        # Because we use grayscale images reduce input channel count to one\n",
        "        self.model.conv1 = nn.Conv2d(1, 64, kernel_size=(3, 3), stride=(2, 2), padding=(1, 1), bias=False)\n",
        "        # Replace ImageNet 1000 class classifier with 64- out linear layer \n",
        "        self.model.fc = nn.Linear(self.model.fc.in_features, 64)\n",
        "\n",
        "    def forward(self, anchor, positive, negative):\n",
        "        output1 = self.model(anchor)\n",
        "        output2 = self.model(positive)\n",
        "        output3 = self.model(negative)\n",
        "        \n",
        "        return output1, output2, output3"
      ],
      "execution_count": 12,
      "outputs": []
    },
    {
      "cell_type": "markdown",
      "metadata": {
        "id": "WwGdJz2onFMR"
      },
      "source": [
        "### Посмотрим на распределение классов в датасете\n",
        "\n",
        "Логично ожидать, что изменений (в масштабах всего спутникового снимка) будет нне так уж и много."
      ]
    },
    {
      "cell_type": "markdown",
      "metadata": {
        "id": "hziZ-0KgnFMR"
      },
      "source": [
        "#### Задача 2.1. Посмотрите на распределение классов внутри датасета. Визуализируйте полученные данные"
      ]
    },
    {
      "cell_type": "code",
      "metadata": {
        "id": "L99oVMDBnFMR",
        "colab": {
          "base_uri": "https://localhost:8080/"
        },
        "outputId": "982675dd-8d45-46d8-a772-c8281a0c4238"
      },
      "source": [
        "## ENTER YOUR CODE HERE ##\n",
        "#for i in range(8):\n",
        "train_features, train_labels = next(iter(train_set))\n",
        "sum=0\n",
        "for i in range(len(train_set)):\n",
        "  sum+=train_set[i][1].item()\n",
        "sum"
      ],
      "execution_count": 97,
      "outputs": [
        {
          "output_type": "stream",
          "name": "stderr",
          "text": [
            "/usr/local/lib/python3.7/dist-packages/ipykernel_launcher.py:30: RuntimeWarning: invalid value encountered in true_divide\n"
          ]
        },
        {
          "output_type": "execute_result",
          "data": {
            "text/plain": [
              "1230"
            ]
          },
          "metadata": {},
          "execution_count": 97
        }
      ]
    },
    {
      "cell_type": "markdown",
      "metadata": {
        "id": "MrXdDLrGnFMS"
      },
      "source": [
        "#### Задача 2.2. Используйте любой из подходящих методов, которые обсуждались в лекции, для того что бы компенсировать несбалансированность данных в датасете"
      ]
    },
    {
      "cell_type": "code",
      "metadata": {
        "id": "VJllcnuAnFMS"
      },
      "source": [
        "## ENTER YOUR CODE HERE ##"
      ],
      "execution_count": null,
      "outputs": []
    },
    {
      "cell_type": "markdown",
      "metadata": {
        "id": "OLjQ1x_xnFMS"
      },
      "source": [
        "### Обучение\n",
        "\n",
        "Когда мы обучаем нейронные сети, нам важно наблюдать два показателя - loss и какую-то метрику, которая показывает насколько хорошо наша модеель справляется с поставленной задачей. Обычно мы используем `accuracy`, но как уже упомяналось в лекции, в случае несбалансированных классов - это бессмысленно."
      ]
    },
    {
      "cell_type": "markdown",
      "metadata": {
        "id": "hlp10glhnFMS"
      },
      "source": [
        "#### Задача 3. Разберитесь с метрикой *Matthews correlation coefficient (MCC)* и реализуйте ее расчет в функции `validate`"
      ]
    },
    {
      "cell_type": "code",
      "metadata": {
        "id": "_cJOY8DfnFMS"
      },
      "source": [
        "def compute_TrueFalse(preds, ground_truth, thres=0.5):\n",
        "    ## ENTER YOUR CODE HERE ##\n",
        "    return tps, tns, fps, fns\n",
        "\n",
        "def compute_MCC(tps, tns, fps, fns):\n",
        "    ## ENTER YOUR CODE HERE ##\n",
        "    return matthews_corr_coef"
      ],
      "execution_count": null,
      "outputs": []
    },
    {
      "cell_type": "code",
      "metadata": {
        "id": "cD-3EdwmnFMS"
      },
      "source": [
        "def validate(model,valloader,device):\n",
        "    model.eval()\n",
        "    mcc = []\n",
        "    ## ENTER YOUR CODE HERE ##\n",
        "    return np.mean(mcc)"
      ],
      "execution_count": null,
      "outputs": []
    },
    {
      "cell_type": "markdown",
      "metadata": {
        "id": "-rcR1o-KnFMS"
      },
      "source": [
        "### Функция `train`\n",
        "\n",
        "Эту функцию можно оставить без изменений (хотя если вы считаете что в ней можно что-то улучшить - улучшите)"
      ]
    },
    {
      "cell_type": "code",
      "metadata": {
        "id": "o8dQqJLynFMT"
      },
      "source": [
        "import torch\n",
        "import torch.nn as nn\n",
        "import torch.optim as optim\n",
        "from torch.utils.tensorboard import SummaryWriter\n",
        "from torch.utils.data import DataLoader\n",
        "\n",
        "def train(model, trainset, valset, batch_size, n_epoch, lr, device, comment = \"\"):\n",
        "  writer = SummaryWriter(comment)\n",
        "  step = 0\n",
        "\n",
        "  # Run model on cuda\n",
        "  print('Using device:', device)\n",
        "  model.to(device)\n",
        "  \n",
        "  train_loader = DataLoader(trainset, batch_size = batch_size, shuffle = False, sampler=sampler_train)\n",
        "  val_loader = DataLoader(valset, batch_size = batch_size, shuffle = False)\n",
        "\n",
        "  criterion = nn.CrossEntropyLoss()\n",
        "  optimizer = optim.Adam(model.parameters(), lr=lr, weight_decay=1e-4)\n",
        "\n",
        "  for epoch in range(n_epoch):\n",
        "    for img_batch, labels_batch in train_loader:\n",
        "\n",
        "      model.train()\n",
        "      optimizer.zero_grad()\n",
        "      output = model(img_batch.to(device).float())\n",
        "      loss = criterion(output, labels_batch.to(device))\n",
        "      loss.backward()\n",
        "      optimizer.step()\n",
        "      if step % 100 == 0:\n",
        "        writer.add_scalar('Loss/train',loss.cpu().item(),step)\n",
        "        writer.flush()\n",
        "      step += 1\n",
        "\n",
        "    accuracy = validate(model,val_loader,device)\n",
        "\n",
        "    writer.add_scalar('MCC',accuracy,epoch)\n",
        "    print(\"Epoch {} Loss {:.2f} MCC {:.2f}\".format(epoch,loss.item(),accuracy))\n",
        "    writer.flush()\n",
        "  writer.close()"
      ],
      "execution_count": null,
      "outputs": []
    },
    {
      "cell_type": "markdown",
      "metadata": {
        "id": "xv1dIe89nFMT"
      },
      "source": [
        "#### Задача 4. Оптимизируйте гиперпараметры сети с помощью Optuna.\n",
        "\n",
        "В лекции мы оптимизировали `lr`. Возможно в вашей имплементации есть еще какие-то параметры которые можно оптимизировать. Например количество слоев, kernel size или аугментации.\n"
      ]
    },
    {
      "cell_type": "code",
      "metadata": {
        "id": "ZsJdcABqnFMT"
      },
      "source": [
        "!pip install optuna"
      ],
      "execution_count": null,
      "outputs": []
    },
    {
      "cell_type": "code",
      "metadata": {
        "id": "LB-5yvnMnFMT"
      },
      "source": [
        "import optuna\n",
        "\n",
        "# 1. Define an objective function to be maximized.\n",
        "def objective(trial):\n",
        "\n",
        "    ## ENTER YOUR CODE HERE ##\n",
        "\n"
      ],
      "execution_count": null,
      "outputs": []
    },
    {
      "cell_type": "code",
      "metadata": {
        "id": "H8cy_rn9nFMT"
      },
      "source": [
        "# 3. Create a study object and optimize the objective function.\n",
        "\n",
        "desination_dir = '/content/oscd_patches/'\n",
        "dataset = SatDataset(desination_dir, partition='train', transform = transform)\n",
        "    \n",
        "study = optuna.create_study('ВАШ КОД')\n",
        "study.optimize(objective, n_trials=100)"
      ],
      "execution_count": null,
      "outputs": []
    },
    {
      "cell_type": "code",
      "metadata": {
        "id": "NvP_EODhnFMT"
      },
      "source": [
        "study.best_params"
      ],
      "execution_count": null,
      "outputs": []
    },
    {
      "cell_type": "markdown",
      "metadata": {
        "id": "FRLI0srjnFMT"
      },
      "source": [
        "#### Задача 4.1. Обучите Сиамскую сеть.\n",
        "\n",
        "Используйте tensorboard для отображения результатов"
      ]
    },
    {
      "cell_type": "code",
      "metadata": {
        "id": "udRDp-JanFMU"
      },
      "source": [
        "reinit_tensorboard(clear_log = False)"
      ],
      "execution_count": null,
      "outputs": []
    },
    {
      "cell_type": "code",
      "metadata": {
        "id": "2viw8I4UnFMU"
      },
      "source": [
        "model = Siam()\n",
        "\n",
        "batch_size = ## ENTER YOUR CODE HERE ##\n",
        "n_epoch = ### ENTER YOUR CODE HERE ##\n",
        "lr = ## ENTER YOUR CODE HERE ##\n",
        "device = torch.device('cuda' if torch.cuda.is_available() else 'cpu')\n",
        "\n",
        "train(model, train_set, val_set, batch_size, n_epoch, lr, device)"
      ],
      "execution_count": null,
      "outputs": []
    },
    {
      "cell_type": "markdown",
      "metadata": {
        "id": "l7866KaHnFMU"
      },
      "source": [
        "### Проверка"
      ]
    },
    {
      "cell_type": "markdown",
      "metadata": {
        "id": "2Os4Pf6SnFMU"
      },
      "source": [
        "#### Задача 4.2 Проверьте насколько хорошо ваша сеть справляется на тестовом датасете.\n",
        "\n",
        "Используйте предоставленый код, внеся изменения там где они необходимы. "
      ]
    },
    {
      "cell_type": "code",
      "metadata": {
        "id": "SORyQyvLnFMU"
      },
      "source": [
        "\"\"\"\n",
        "0. Import libraries\n",
        "1. Download random image of random size from the internet with PIL and requests\n",
        "2. Resize image so each size is divisable by patch size\n",
        "3. split image to patches of size=(15,15)\n",
        "4. stack tiles into a numpy array\n",
        "5. create `img_new` and assemble tiles back to the original image seemlessly\n",
        "6. Resize back to original image size\n",
        "7. display the image\n",
        "\"\"\"\n",
        "\n",
        "import numpy as np\n",
        "import matplotlib.pyplot as plt\n",
        "from PIL import Image\n",
        "\n",
        "def img_to_patches(img):\n",
        "    w = img.size[0]\n",
        "    h = img.size[1]\n",
        "\n",
        "    # Resize image so each size is divisable by patch size\n",
        "\n",
        "    ## ENTER YOUR CODE HERE ##\n",
        "\n",
        "    # split image to patches of size=(15,15)\n",
        "\n",
        "    ## ENTER YOUR CODE HERE ##\n",
        "\n",
        "    # stack tiles into a numpy array\n",
        "\n",
        "    ## ENTER YOUR CODE HERE ##\n",
        "    return ## ENTER YOUR CODE HERE ##\n",
        "\n",
        "city = 'norcia'\n",
        "img1 = Image.open('/content/oscd_images/test/%s_img1.png' % city) \n",
        "img2 = Image.open('/content/oscd_images/test/%s_img2.png' % city)\n",
        "mask = Image.open('/content/oscd_images/test/%s_mask.png' % city)\n",
        "\n",
        "## ENTER YOUR CODE HERE ##\n",
        "\n",
        "# create `img_new` and assemble tiles back to the original image seemlessly\n",
        "\n",
        "def patches_to_img('ВАШ КОД'):\n",
        "    if mask:\n",
        "        img_new = np.zeros((h,w))\n",
        "    else:\n",
        "        img_new = np.zeros((h,w,3))\n",
        "\n",
        "    ## ENTER YOUR CODE HERE ##\n",
        "\n",
        "    # Resize back to original image size\n",
        "\n",
        "    ## ENTER YOUR CODE HERE ##\n",
        "    return img_new\n",
        "\n",
        "model.to('cpu')\n",
        "model.eval()\n",
        "\n",
        "# ВАШ КОД\n",
        "\n",
        "# display the image\n",
        "\n",
        "fig,ax = plt.subplots(ncols=4, figsize=(20,10))\n",
        "ax[0].imshow(img_new1)\n",
        "ax[1].imshow(img_new2)\n",
        "ax[2].imshow(img_new1)\n",
        "ax[3].imshow(img_new2)\n",
        "ax[2].imshow(mask_new, cmap='inferno', alpha=0.5)\n",
        "ax[3].imshow(pred_mask, cmap='inferno', alpha=0.5)\n",
        "\n",
        "for a in ax:\n",
        "    a.axis('off')"
      ],
      "execution_count": null,
      "outputs": []
    },
    {
      "cell_type": "markdown",
      "metadata": {
        "id": "GH4pBRw9nFMU"
      },
      "source": [
        "### Задача 5. Реализуйте тот или иной метод ансамблинга предсказаний модели.\n",
        "\n",
        "Например можно сдвгать картинку на 1 пиксель, делать предсказание, и сдвигать снова. А результаты сложить. Получится что модель как бы голосует за каждый пиксель по отдельности"
      ]
    },
    {
      "cell_type": "code",
      "metadata": {
        "id": "bU7l-7funFMU"
      },
      "source": [
        "## ENTER YOUR CODE HERE ##"
      ],
      "execution_count": null,
      "outputs": []
    }
  ],
  "nbformat": 4,
  "nbformat_minor": 0,
  "metadata": {
    "colab": {
      "name": "EX11_Learning_on_Real_data.ipynb",
      "provenance": []
    },
    "language_info": {
      "name": "python"
    },
    "kernelspec": {
      "name": "python3",
      "display_name": "Python 3"
    },
    "accelerator": "GPU",
    "widgets": {
      "application/vnd.jupyter.widget-state+json": {
        "e57cb7090bce467b94909940ce8a2dd3": {
          "model_module": "@jupyter-widgets/controls",
          "model_name": "HBoxModel",
          "model_module_version": "1.5.0",
          "state": {
            "_view_name": "HBoxView",
            "_dom_classes": [],
            "_model_name": "HBoxModel",
            "_view_module": "@jupyter-widgets/controls",
            "_model_module_version": "1.5.0",
            "_view_count": null,
            "_view_module_version": "1.5.0",
            "box_style": "",
            "layout": "IPY_MODEL_44bdfbace6244da5b7f26dda24fc211f",
            "_model_module": "@jupyter-widgets/controls",
            "children": [
              "IPY_MODEL_fef1363017034479a16242127dfe519e",
              "IPY_MODEL_79082a54be854119829559fafbf815a6",
              "IPY_MODEL_7bb41f7fc5bc4fb7a7347f1ff282e459"
            ]
          }
        },
        "44bdfbace6244da5b7f26dda24fc211f": {
          "model_module": "@jupyter-widgets/base",
          "model_name": "LayoutModel",
          "model_module_version": "1.2.0",
          "state": {
            "_view_name": "LayoutView",
            "grid_template_rows": null,
            "right": null,
            "justify_content": null,
            "_view_module": "@jupyter-widgets/base",
            "overflow": null,
            "_model_module_version": "1.2.0",
            "_view_count": null,
            "flex_flow": null,
            "width": null,
            "min_width": null,
            "border": null,
            "align_items": null,
            "bottom": null,
            "_model_module": "@jupyter-widgets/base",
            "top": null,
            "grid_column": null,
            "overflow_y": null,
            "overflow_x": null,
            "grid_auto_flow": null,
            "grid_area": null,
            "grid_template_columns": null,
            "flex": null,
            "_model_name": "LayoutModel",
            "justify_items": null,
            "grid_row": null,
            "max_height": null,
            "align_content": null,
            "visibility": null,
            "align_self": null,
            "height": null,
            "min_height": null,
            "padding": null,
            "grid_auto_rows": null,
            "grid_gap": null,
            "max_width": null,
            "order": null,
            "_view_module_version": "1.2.0",
            "grid_template_areas": null,
            "object_position": null,
            "object_fit": null,
            "grid_auto_columns": null,
            "margin": null,
            "display": null,
            "left": null
          }
        },
        "fef1363017034479a16242127dfe519e": {
          "model_module": "@jupyter-widgets/controls",
          "model_name": "HTMLModel",
          "model_module_version": "1.5.0",
          "state": {
            "_view_name": "HTMLView",
            "style": "IPY_MODEL_42449eeb240f48c7ac5128cbc3df3f32",
            "_dom_classes": [],
            "description": "",
            "_model_name": "HTMLModel",
            "placeholder": "​",
            "_view_module": "@jupyter-widgets/controls",
            "_model_module_version": "1.5.0",
            "value": "100%",
            "_view_count": null,
            "_view_module_version": "1.5.0",
            "description_tooltip": null,
            "_model_module": "@jupyter-widgets/controls",
            "layout": "IPY_MODEL_f4d5e8a0a2f54d669fd2e59920a0cfd3"
          }
        },
        "79082a54be854119829559fafbf815a6": {
          "model_module": "@jupyter-widgets/controls",
          "model_name": "FloatProgressModel",
          "model_module_version": "1.5.0",
          "state": {
            "_view_name": "ProgressView",
            "style": "IPY_MODEL_fc49ade81ed244ad89c37259a9ad8622",
            "_dom_classes": [],
            "description": "",
            "_model_name": "FloatProgressModel",
            "bar_style": "success",
            "max": 14,
            "_view_module": "@jupyter-widgets/controls",
            "_model_module_version": "1.5.0",
            "value": 14,
            "_view_count": null,
            "_view_module_version": "1.5.0",
            "orientation": "horizontal",
            "min": 0,
            "description_tooltip": null,
            "_model_module": "@jupyter-widgets/controls",
            "layout": "IPY_MODEL_8e44c1dc521440d78243fd7f984aa7ff"
          }
        },
        "7bb41f7fc5bc4fb7a7347f1ff282e459": {
          "model_module": "@jupyter-widgets/controls",
          "model_name": "HTMLModel",
          "model_module_version": "1.5.0",
          "state": {
            "_view_name": "HTMLView",
            "style": "IPY_MODEL_dbeee2f5579d4bb79c1319930c5a1ddf",
            "_dom_classes": [],
            "description": "",
            "_model_name": "HTMLModel",
            "placeholder": "​",
            "_view_module": "@jupyter-widgets/controls",
            "_model_module_version": "1.5.0",
            "value": " 14/14 [00:19&lt;00:00,  1.09s/it]",
            "_view_count": null,
            "_view_module_version": "1.5.0",
            "description_tooltip": null,
            "_model_module": "@jupyter-widgets/controls",
            "layout": "IPY_MODEL_f9b220b181f14e828f547d39d61925b4"
          }
        },
        "42449eeb240f48c7ac5128cbc3df3f32": {
          "model_module": "@jupyter-widgets/controls",
          "model_name": "DescriptionStyleModel",
          "model_module_version": "1.5.0",
          "state": {
            "_view_name": "StyleView",
            "_model_name": "DescriptionStyleModel",
            "description_width": "",
            "_view_module": "@jupyter-widgets/base",
            "_model_module_version": "1.5.0",
            "_view_count": null,
            "_view_module_version": "1.2.0",
            "_model_module": "@jupyter-widgets/controls"
          }
        },
        "f4d5e8a0a2f54d669fd2e59920a0cfd3": {
          "model_module": "@jupyter-widgets/base",
          "model_name": "LayoutModel",
          "model_module_version": "1.2.0",
          "state": {
            "_view_name": "LayoutView",
            "grid_template_rows": null,
            "right": null,
            "justify_content": null,
            "_view_module": "@jupyter-widgets/base",
            "overflow": null,
            "_model_module_version": "1.2.0",
            "_view_count": null,
            "flex_flow": null,
            "width": null,
            "min_width": null,
            "border": null,
            "align_items": null,
            "bottom": null,
            "_model_module": "@jupyter-widgets/base",
            "top": null,
            "grid_column": null,
            "overflow_y": null,
            "overflow_x": null,
            "grid_auto_flow": null,
            "grid_area": null,
            "grid_template_columns": null,
            "flex": null,
            "_model_name": "LayoutModel",
            "justify_items": null,
            "grid_row": null,
            "max_height": null,
            "align_content": null,
            "visibility": null,
            "align_self": null,
            "height": null,
            "min_height": null,
            "padding": null,
            "grid_auto_rows": null,
            "grid_gap": null,
            "max_width": null,
            "order": null,
            "_view_module_version": "1.2.0",
            "grid_template_areas": null,
            "object_position": null,
            "object_fit": null,
            "grid_auto_columns": null,
            "margin": null,
            "display": null,
            "left": null
          }
        },
        "fc49ade81ed244ad89c37259a9ad8622": {
          "model_module": "@jupyter-widgets/controls",
          "model_name": "ProgressStyleModel",
          "model_module_version": "1.5.0",
          "state": {
            "_view_name": "StyleView",
            "_model_name": "ProgressStyleModel",
            "description_width": "",
            "_view_module": "@jupyter-widgets/base",
            "_model_module_version": "1.5.0",
            "_view_count": null,
            "_view_module_version": "1.2.0",
            "bar_color": null,
            "_model_module": "@jupyter-widgets/controls"
          }
        },
        "8e44c1dc521440d78243fd7f984aa7ff": {
          "model_module": "@jupyter-widgets/base",
          "model_name": "LayoutModel",
          "model_module_version": "1.2.0",
          "state": {
            "_view_name": "LayoutView",
            "grid_template_rows": null,
            "right": null,
            "justify_content": null,
            "_view_module": "@jupyter-widgets/base",
            "overflow": null,
            "_model_module_version": "1.2.0",
            "_view_count": null,
            "flex_flow": null,
            "width": null,
            "min_width": null,
            "border": null,
            "align_items": null,
            "bottom": null,
            "_model_module": "@jupyter-widgets/base",
            "top": null,
            "grid_column": null,
            "overflow_y": null,
            "overflow_x": null,
            "grid_auto_flow": null,
            "grid_area": null,
            "grid_template_columns": null,
            "flex": null,
            "_model_name": "LayoutModel",
            "justify_items": null,
            "grid_row": null,
            "max_height": null,
            "align_content": null,
            "visibility": null,
            "align_self": null,
            "height": null,
            "min_height": null,
            "padding": null,
            "grid_auto_rows": null,
            "grid_gap": null,
            "max_width": null,
            "order": null,
            "_view_module_version": "1.2.0",
            "grid_template_areas": null,
            "object_position": null,
            "object_fit": null,
            "grid_auto_columns": null,
            "margin": null,
            "display": null,
            "left": null
          }
        },
        "dbeee2f5579d4bb79c1319930c5a1ddf": {
          "model_module": "@jupyter-widgets/controls",
          "model_name": "DescriptionStyleModel",
          "model_module_version": "1.5.0",
          "state": {
            "_view_name": "StyleView",
            "_model_name": "DescriptionStyleModel",
            "description_width": "",
            "_view_module": "@jupyter-widgets/base",
            "_model_module_version": "1.5.0",
            "_view_count": null,
            "_view_module_version": "1.2.0",
            "_model_module": "@jupyter-widgets/controls"
          }
        },
        "f9b220b181f14e828f547d39d61925b4": {
          "model_module": "@jupyter-widgets/base",
          "model_name": "LayoutModel",
          "model_module_version": "1.2.0",
          "state": {
            "_view_name": "LayoutView",
            "grid_template_rows": null,
            "right": null,
            "justify_content": null,
            "_view_module": "@jupyter-widgets/base",
            "overflow": null,
            "_model_module_version": "1.2.0",
            "_view_count": null,
            "flex_flow": null,
            "width": null,
            "min_width": null,
            "border": null,
            "align_items": null,
            "bottom": null,
            "_model_module": "@jupyter-widgets/base",
            "top": null,
            "grid_column": null,
            "overflow_y": null,
            "overflow_x": null,
            "grid_auto_flow": null,
            "grid_area": null,
            "grid_template_columns": null,
            "flex": null,
            "_model_name": "LayoutModel",
            "justify_items": null,
            "grid_row": null,
            "max_height": null,
            "align_content": null,
            "visibility": null,
            "align_self": null,
            "height": null,
            "min_height": null,
            "padding": null,
            "grid_auto_rows": null,
            "grid_gap": null,
            "max_width": null,
            "order": null,
            "_view_module_version": "1.2.0",
            "grid_template_areas": null,
            "object_position": null,
            "object_fit": null,
            "grid_auto_columns": null,
            "margin": null,
            "display": null,
            "left": null
          }
        },
        "17fab8f8b7ec4fbfa8aa7e7a79d44921": {
          "model_module": "@jupyter-widgets/controls",
          "model_name": "HBoxModel",
          "model_module_version": "1.5.0",
          "state": {
            "_view_name": "HBoxView",
            "_dom_classes": [],
            "_model_name": "HBoxModel",
            "_view_module": "@jupyter-widgets/controls",
            "_model_module_version": "1.5.0",
            "_view_count": null,
            "_view_module_version": "1.5.0",
            "box_style": "",
            "layout": "IPY_MODEL_19679a2b26ab4692975ee7d38ad0096a",
            "_model_module": "@jupyter-widgets/controls",
            "children": [
              "IPY_MODEL_941a4df561d9400d806c00793d5d644e",
              "IPY_MODEL_c7e147122dff435dbd976c0fc81b04b9",
              "IPY_MODEL_6d6127d002134014a5896ed4c791100f"
            ]
          }
        },
        "19679a2b26ab4692975ee7d38ad0096a": {
          "model_module": "@jupyter-widgets/base",
          "model_name": "LayoutModel",
          "model_module_version": "1.2.0",
          "state": {
            "_view_name": "LayoutView",
            "grid_template_rows": null,
            "right": null,
            "justify_content": null,
            "_view_module": "@jupyter-widgets/base",
            "overflow": null,
            "_model_module_version": "1.2.0",
            "_view_count": null,
            "flex_flow": null,
            "width": null,
            "min_width": null,
            "border": null,
            "align_items": null,
            "bottom": null,
            "_model_module": "@jupyter-widgets/base",
            "top": null,
            "grid_column": null,
            "overflow_y": null,
            "overflow_x": null,
            "grid_auto_flow": null,
            "grid_area": null,
            "grid_template_columns": null,
            "flex": null,
            "_model_name": "LayoutModel",
            "justify_items": null,
            "grid_row": null,
            "max_height": null,
            "align_content": null,
            "visibility": null,
            "align_self": null,
            "height": null,
            "min_height": null,
            "padding": null,
            "grid_auto_rows": null,
            "grid_gap": null,
            "max_width": null,
            "order": null,
            "_view_module_version": "1.2.0",
            "grid_template_areas": null,
            "object_position": null,
            "object_fit": null,
            "grid_auto_columns": null,
            "margin": null,
            "display": null,
            "left": null
          }
        },
        "941a4df561d9400d806c00793d5d644e": {
          "model_module": "@jupyter-widgets/controls",
          "model_name": "HTMLModel",
          "model_module_version": "1.5.0",
          "state": {
            "_view_name": "HTMLView",
            "style": "IPY_MODEL_0152cd4d77564ea388a0cf499c912e88",
            "_dom_classes": [],
            "description": "",
            "_model_name": "HTMLModel",
            "placeholder": "​",
            "_view_module": "@jupyter-widgets/controls",
            "_model_module_version": "1.5.0",
            "value": "100%",
            "_view_count": null,
            "_view_module_version": "1.5.0",
            "description_tooltip": null,
            "_model_module": "@jupyter-widgets/controls",
            "layout": "IPY_MODEL_439b83436d63492da0421541809126e2"
          }
        },
        "c7e147122dff435dbd976c0fc81b04b9": {
          "model_module": "@jupyter-widgets/controls",
          "model_name": "FloatProgressModel",
          "model_module_version": "1.5.0",
          "state": {
            "_view_name": "ProgressView",
            "style": "IPY_MODEL_5699b2afae214a36a38ca671c4366eec",
            "_dom_classes": [],
            "description": "",
            "_model_name": "FloatProgressModel",
            "bar_style": "success",
            "max": 10,
            "_view_module": "@jupyter-widgets/controls",
            "_model_module_version": "1.5.0",
            "value": 10,
            "_view_count": null,
            "_view_module_version": "1.5.0",
            "orientation": "horizontal",
            "min": 0,
            "description_tooltip": null,
            "_model_module": "@jupyter-widgets/controls",
            "layout": "IPY_MODEL_dc87bb7d428a488db08e98a8e90166b4"
          }
        },
        "6d6127d002134014a5896ed4c791100f": {
          "model_module": "@jupyter-widgets/controls",
          "model_name": "HTMLModel",
          "model_module_version": "1.5.0",
          "state": {
            "_view_name": "HTMLView",
            "style": "IPY_MODEL_a32496d98b6f464aa40447ed335d335a",
            "_dom_classes": [],
            "description": "",
            "_model_name": "HTMLModel",
            "placeholder": "​",
            "_view_module": "@jupyter-widgets/controls",
            "_model_module_version": "1.5.0",
            "value": " 10/10 [00:09&lt;00:00,  1.21it/s]",
            "_view_count": null,
            "_view_module_version": "1.5.0",
            "description_tooltip": null,
            "_model_module": "@jupyter-widgets/controls",
            "layout": "IPY_MODEL_677d23489f8a4c64a930e57d4343ad0d"
          }
        },
        "0152cd4d77564ea388a0cf499c912e88": {
          "model_module": "@jupyter-widgets/controls",
          "model_name": "DescriptionStyleModel",
          "model_module_version": "1.5.0",
          "state": {
            "_view_name": "StyleView",
            "_model_name": "DescriptionStyleModel",
            "description_width": "",
            "_view_module": "@jupyter-widgets/base",
            "_model_module_version": "1.5.0",
            "_view_count": null,
            "_view_module_version": "1.2.0",
            "_model_module": "@jupyter-widgets/controls"
          }
        },
        "439b83436d63492da0421541809126e2": {
          "model_module": "@jupyter-widgets/base",
          "model_name": "LayoutModel",
          "model_module_version": "1.2.0",
          "state": {
            "_view_name": "LayoutView",
            "grid_template_rows": null,
            "right": null,
            "justify_content": null,
            "_view_module": "@jupyter-widgets/base",
            "overflow": null,
            "_model_module_version": "1.2.0",
            "_view_count": null,
            "flex_flow": null,
            "width": null,
            "min_width": null,
            "border": null,
            "align_items": null,
            "bottom": null,
            "_model_module": "@jupyter-widgets/base",
            "top": null,
            "grid_column": null,
            "overflow_y": null,
            "overflow_x": null,
            "grid_auto_flow": null,
            "grid_area": null,
            "grid_template_columns": null,
            "flex": null,
            "_model_name": "LayoutModel",
            "justify_items": null,
            "grid_row": null,
            "max_height": null,
            "align_content": null,
            "visibility": null,
            "align_self": null,
            "height": null,
            "min_height": null,
            "padding": null,
            "grid_auto_rows": null,
            "grid_gap": null,
            "max_width": null,
            "order": null,
            "_view_module_version": "1.2.0",
            "grid_template_areas": null,
            "object_position": null,
            "object_fit": null,
            "grid_auto_columns": null,
            "margin": null,
            "display": null,
            "left": null
          }
        },
        "5699b2afae214a36a38ca671c4366eec": {
          "model_module": "@jupyter-widgets/controls",
          "model_name": "ProgressStyleModel",
          "model_module_version": "1.5.0",
          "state": {
            "_view_name": "StyleView",
            "_model_name": "ProgressStyleModel",
            "description_width": "",
            "_view_module": "@jupyter-widgets/base",
            "_model_module_version": "1.5.0",
            "_view_count": null,
            "_view_module_version": "1.2.0",
            "bar_color": null,
            "_model_module": "@jupyter-widgets/controls"
          }
        },
        "dc87bb7d428a488db08e98a8e90166b4": {
          "model_module": "@jupyter-widgets/base",
          "model_name": "LayoutModel",
          "model_module_version": "1.2.0",
          "state": {
            "_view_name": "LayoutView",
            "grid_template_rows": null,
            "right": null,
            "justify_content": null,
            "_view_module": "@jupyter-widgets/base",
            "overflow": null,
            "_model_module_version": "1.2.0",
            "_view_count": null,
            "flex_flow": null,
            "width": null,
            "min_width": null,
            "border": null,
            "align_items": null,
            "bottom": null,
            "_model_module": "@jupyter-widgets/base",
            "top": null,
            "grid_column": null,
            "overflow_y": null,
            "overflow_x": null,
            "grid_auto_flow": null,
            "grid_area": null,
            "grid_template_columns": null,
            "flex": null,
            "_model_name": "LayoutModel",
            "justify_items": null,
            "grid_row": null,
            "max_height": null,
            "align_content": null,
            "visibility": null,
            "align_self": null,
            "height": null,
            "min_height": null,
            "padding": null,
            "grid_auto_rows": null,
            "grid_gap": null,
            "max_width": null,
            "order": null,
            "_view_module_version": "1.2.0",
            "grid_template_areas": null,
            "object_position": null,
            "object_fit": null,
            "grid_auto_columns": null,
            "margin": null,
            "display": null,
            "left": null
          }
        },
        "a32496d98b6f464aa40447ed335d335a": {
          "model_module": "@jupyter-widgets/controls",
          "model_name": "DescriptionStyleModel",
          "model_module_version": "1.5.0",
          "state": {
            "_view_name": "StyleView",
            "_model_name": "DescriptionStyleModel",
            "description_width": "",
            "_view_module": "@jupyter-widgets/base",
            "_model_module_version": "1.5.0",
            "_view_count": null,
            "_view_module_version": "1.2.0",
            "_model_module": "@jupyter-widgets/controls"
          }
        },
        "677d23489f8a4c64a930e57d4343ad0d": {
          "model_module": "@jupyter-widgets/base",
          "model_name": "LayoutModel",
          "model_module_version": "1.2.0",
          "state": {
            "_view_name": "LayoutView",
            "grid_template_rows": null,
            "right": null,
            "justify_content": null,
            "_view_module": "@jupyter-widgets/base",
            "overflow": null,
            "_model_module_version": "1.2.0",
            "_view_count": null,
            "flex_flow": null,
            "width": null,
            "min_width": null,
            "border": null,
            "align_items": null,
            "bottom": null,
            "_model_module": "@jupyter-widgets/base",
            "top": null,
            "grid_column": null,
            "overflow_y": null,
            "overflow_x": null,
            "grid_auto_flow": null,
            "grid_area": null,
            "grid_template_columns": null,
            "flex": null,
            "_model_name": "LayoutModel",
            "justify_items": null,
            "grid_row": null,
            "max_height": null,
            "align_content": null,
            "visibility": null,
            "align_self": null,
            "height": null,
            "min_height": null,
            "padding": null,
            "grid_auto_rows": null,
            "grid_gap": null,
            "max_width": null,
            "order": null,
            "_view_module_version": "1.2.0",
            "grid_template_areas": null,
            "object_position": null,
            "object_fit": null,
            "grid_auto_columns": null,
            "margin": null,
            "display": null,
            "left": null
          }
        }
      }
    }
  }
}